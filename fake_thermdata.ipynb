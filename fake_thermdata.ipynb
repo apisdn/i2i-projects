{
 "cells": [
  {
   "cell_type": "code",
   "execution_count": 1,
   "metadata": {},
   "outputs": [],
   "source": [
    "import csv\n",
    "import random\n",
    "\n",
    "def generate_random_csv(filename, width, length):\n",
    "    with open(filename, mode='w', newline='') as file:\n",
    "        writer = csv.writer(file)\n",
    "        for _ in range(length):\n",
    "            row = [random.randint(0, 100) for _ in range(width)]\n",
    "            writer.writerow(row)"
   ]
  },
  {
   "cell_type": "code",
   "execution_count": 2,
   "metadata": {},
   "outputs": [],
   "source": [
    "# Example usage:\n",
    "generate_random_csv('random_numbers.csv', 320, 240*100)"
   ]
  },
  {
   "cell_type": "code",
   "execution_count": 3,
   "metadata": {},
   "outputs": [],
   "source": [
    "import os\n",
    "import shutil\n",
    "\n",
    "source_folder = 'real_rgb/rgb'\n",
    "destination_folder = 'fake_therm_set'\n",
    "\n",
    "# Ensure the destination folder exists\n",
    "os.makedirs(destination_folder, exist_ok=True)\n",
    "\n",
    "# Get a list of all files in the source folder\n",
    "all_files = os.listdir(source_folder)\n",
    "\n",
    "# Filter out only image files (assuming they have common image extensions)\n",
    "image_files = [f for f in all_files if f.lower().endswith(('.png', '.jpg', '.jpeg', '.bmp', '.gif'))]\n",
    "\n",
    "# Copy the first 100 images to the destination folder\n",
    "for image_file in image_files[:100]:\n",
    "    src_path = os.path.join(source_folder, image_file)\n",
    "    dst_path = os.path.join(destination_folder, image_file)\n",
    "    shutil.copy(src_path, dst_path)"
   ]
  }
 ],
 "metadata": {
  "kernelspec": {
   "display_name": "unet_cuda",
   "language": "python",
   "name": "python3"
  },
  "language_info": {
   "codemirror_mode": {
    "name": "ipython",
    "version": 3
   },
   "file_extension": ".py",
   "mimetype": "text/x-python",
   "name": "python",
   "nbconvert_exporter": "python",
   "pygments_lexer": "ipython3",
   "version": "3.11.9"
  }
 },
 "nbformat": 4,
 "nbformat_minor": 2
}
