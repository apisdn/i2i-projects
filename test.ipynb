{
 "cells": [
  {
   "cell_type": "code",
   "execution_count": 6,
   "metadata": {},
   "outputs": [],
   "source": [
    "import torch\n",
    "import torch.nn as nn\n",
    "import torch.optim as optim\n",
    "from dataset import ImageDataset\n",
    "from model import Unet\n",
    "from torch.utils.data import DataLoader\n",
    "from tqdm import tqdm\n",
    "\n",
    "import os\n",
    "import random\n",
    "import numpy as np\n",
    "from skimage.io import imread\n",
    "from torch.utils.data import Dataset\n",
    "from glob import glob\n",
    "from PIL import Image\n",
    "import time"
   ]
  },
  {
   "cell_type": "code",
   "execution_count": 4,
   "metadata": {},
   "outputs": [],
   "source": [
    "losses = []\n",
    "val_losses = []\n",
    "device = \"cuda\" if torch.cuda.is_available() else \"cpu\""
   ]
  },
  {
   "cell_type": "code",
   "execution_count": 5,
   "metadata": {},
   "outputs": [
    {
     "name": "stderr",
     "output_type": "stream",
     "text": [
      "c:\\Users\\Emma Wadsworth\\anaconda3\\envs\\unet\\Lib\\site-packages\\torch\\amp\\grad_scaler.py:131: UserWarning: torch.cuda.amp.GradScaler is enabled, but CUDA is not available.  Disabling.\n",
      "  warnings.warn(\n"
     ]
    }
   ],
   "source": [
    "# parameters\n",
    "in_chan = 3\n",
    "out_chan = 3\n",
    "learning_rate = 1e-4\n",
    "batch_size = 1\n",
    "num_epochs = 10\n",
    "loss_fn = nn.CrossEntropyLoss()\n",
    "\n",
    "model = Unet(in_channels=in_chan, out_channels=out_chan).to(device)\n",
    "opt = optim.Adam(model.parameters(), lr=learning_rate)\n",
    "scaler = torch.cuda.amp.GradScaler()"
   ]
  },
  {
   "cell_type": "code",
   "execution_count": 6,
   "metadata": {},
   "outputs": [],
   "source": [
    "ds = ImageDataset(\"real_rgb/rgb/*\", \"real_rgb/tir/*\")\n",
    "training_set, validation_set = torch.utils.data.random_split(ds, [int(len(ds) * 0.8), len(ds) - int(len(ds) * 0.8)])"
   ]
  },
  {
   "cell_type": "code",
   "execution_count": 7,
   "metadata": {},
   "outputs": [
    {
     "data": {
      "text/plain": [
       "tensor([[[[ 3.1645e-02,  2.8528e-02,  2.2073e-02,  ..., -2.8522e-05,\n",
       "            2.9988e-02,  7.7605e-03],\n",
       "          [ 1.0359e-02,  1.7951e-02,  7.9497e-03,  ...,  8.5796e-03,\n",
       "            3.2451e-02,  3.1146e-02],\n",
       "          [ 1.9511e-02,  1.1240e-02,  1.5240e-02,  ..., -1.0154e-04,\n",
       "            7.8850e-03, -2.5203e-03],\n",
       "          ...,\n",
       "          [ 2.0001e-02,  1.8466e-02,  2.5683e-02,  ..., -1.3075e-02,\n",
       "           -7.2934e-03,  1.1964e-02],\n",
       "          [-7.3977e-04,  2.7772e-02,  3.5375e-02,  ...,  1.8398e-02,\n",
       "            1.8850e-02,  2.3823e-02],\n",
       "          [ 1.3692e-02, -8.1059e-03,  2.8949e-02,  ...,  1.5022e-02,\n",
       "            1.5414e-02,  1.1174e-02]],\n",
       "\n",
       "         [[-1.1073e-01, -1.1325e-01, -9.9306e-02,  ..., -9.5630e-02,\n",
       "           -1.0298e-01, -1.1783e-01],\n",
       "          [-1.1375e-01, -1.0215e-01, -1.0697e-01,  ..., -1.1970e-01,\n",
       "           -1.0504e-01, -1.2086e-01],\n",
       "          [-1.0966e-01, -1.0596e-01, -9.2518e-02,  ..., -1.0744e-01,\n",
       "           -1.0490e-01, -1.1120e-01],\n",
       "          ...,\n",
       "          [-1.0860e-01, -1.1108e-01, -1.0642e-01,  ..., -9.7893e-02,\n",
       "           -1.0781e-01, -1.2411e-01],\n",
       "          [-1.0383e-01, -1.3894e-01, -1.0229e-01,  ..., -1.1537e-01,\n",
       "           -1.0551e-01, -1.2203e-01],\n",
       "          [-1.2817e-01, -1.0308e-01, -1.2313e-01,  ..., -1.1822e-01,\n",
       "           -1.2840e-01, -9.9830e-02]],\n",
       "\n",
       "         [[-1.0717e-01, -9.5579e-02, -1.0048e-01,  ..., -1.0265e-01,\n",
       "           -9.8326e-02, -1.1326e-01],\n",
       "          [-1.0744e-01, -8.6512e-02, -9.5225e-02,  ..., -9.4759e-02,\n",
       "           -1.0317e-01, -1.0122e-01],\n",
       "          [-9.5189e-02, -7.4679e-02, -9.8349e-02,  ..., -1.1621e-01,\n",
       "           -9.5280e-02, -1.0878e-01],\n",
       "          ...,\n",
       "          [-1.1069e-01, -1.1976e-01, -1.1223e-01,  ..., -1.0958e-01,\n",
       "           -1.0785e-01, -1.2977e-01],\n",
       "          [-1.0615e-01, -1.0541e-01, -1.1372e-01,  ..., -9.4918e-02,\n",
       "           -1.0133e-01, -1.0628e-01],\n",
       "          [-1.2498e-01, -1.1840e-01, -1.0236e-01,  ..., -1.0925e-01,\n",
       "           -1.0416e-01, -1.0904e-01]]]], grad_fn=<ConvolutionBackward0>)"
      ]
     },
     "execution_count": 7,
     "metadata": {},
     "output_type": "execute_result"
    }
   ],
   "source": [
    "model(training_set.__getitem__(0)[0].unsqueeze(0).to(device))"
   ]
  },
  {
   "cell_type": "code",
   "execution_count": 8,
   "metadata": {},
   "outputs": [
    {
     "name": "stdout",
     "output_type": "stream",
     "text": [
      "12.1\n",
      "True\n",
      "0\n",
      "NVIDIA GeForce RTX 3070 Ti Laptop GPU\n"
     ]
    }
   ],
   "source": [
    "print(torch.version.cuda)\n",
    "print(torch.cuda.is_available())\n",
    "print(torch.cuda.current_device())\n",
    "print(torch.cuda.get_device_name())\n",
    "\n",
    "device = \"cuda\""
   ]
  },
  {
   "cell_type": "code",
   "execution_count": 14,
   "metadata": {},
   "outputs": [
    {
     "name": "stdout",
     "output_type": "stream",
     "text": [
      "0.008604049682617188\n",
      "0.019016742706298828\n"
     ]
    }
   ],
   "source": [
    "sample_tensor = torch.rand((1, 3, 256, 256)).to(device)\n",
    "\n",
    "# time how long it takes on gpu\n",
    "start_time = time.time()\n",
    "for i in range(1000):\n",
    "    thing = sample_tensor ** 2\n",
    "print(time.time() - start_time)\n",
    "\n",
    "sample_tensor = torch.rand((1, 3, 256, 256)).to(\"cpu\")\n",
    "\n",
    "# time how long it takes on cpu\n",
    "start_time = time.time()\n",
    "for i in range(1000):\n",
    "    thing = sample_tensor ** 2\n",
    "print(time.time() - start_time)"
   ]
  }
 ],
 "metadata": {
  "kernelspec": {
   "display_name": "unet",
   "language": "python",
   "name": "python3"
  },
  "language_info": {
   "codemirror_mode": {
    "name": "ipython",
    "version": 3
   },
   "file_extension": ".py",
   "mimetype": "text/x-python",
   "name": "python",
   "nbconvert_exporter": "python",
   "pygments_lexer": "ipython3",
   "version": "3.11.9"
  }
 },
 "nbformat": 4,
 "nbformat_minor": 2
}
