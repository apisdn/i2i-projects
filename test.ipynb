{
 "cells": [
  {
   "cell_type": "code",
   "execution_count": 1,
   "metadata": {},
   "outputs": [],
   "source": [
    "import glob\n",
    "import matplotlib.pyplot as plt\n",
    "import pandas as pd\n",
    "import numpy as np\n",
    "import os"
   ]
  },
  {
   "cell_type": "code",
   "execution_count": 2,
   "metadata": {},
   "outputs": [
    {
     "ename": "KeyboardInterrupt",
     "evalue": "",
     "output_type": "error",
     "traceback": [
      "\u001b[1;31m---------------------------------------------------------------------------\u001b[0m",
      "\u001b[1;31mKeyboardInterrupt\u001b[0m                         Traceback (most recent call last)",
      "Cell \u001b[1;32mIn[2], line 27\u001b[0m\n\u001b[0;32m     24\u001b[0m         \u001b[38;5;28;01mbreak\u001b[39;00m\n\u001b[0;32m     26\u001b[0m \u001b[38;5;66;03m# find the associated .csv\u001b[39;00m\n\u001b[1;32m---> 27\u001b[0m files_therm11 \u001b[38;5;241m=\u001b[39m \u001b[43mglob\u001b[49m\u001b[38;5;241;43m.\u001b[39;49m\u001b[43mglob\u001b[49m\u001b[43m(\u001b[49m\u001b[38;5;124;43m'\u001b[39;49m\u001b[38;5;124;43mtherm11/*.csv\u001b[39;49m\u001b[38;5;124;43m'\u001b[39;49m\u001b[43m)\u001b[49m\n\u001b[0;32m     29\u001b[0m \u001b[38;5;28;01mfor\u001b[39;00m file_therm11 \u001b[38;5;129;01min\u001b[39;00m files_therm11:\n\u001b[0;32m     30\u001b[0m     \u001b[38;5;28;01mif\u001b[39;00m number \u001b[38;5;129;01min\u001b[39;00m file_therm11:\n",
      "File \u001b[1;32mc:\\Users\\Emma Wadsworth\\anaconda3\\envs\\unet\\Lib\\glob.py:28\u001b[0m, in \u001b[0;36mglob\u001b[1;34m(pathname, root_dir, dir_fd, recursive, include_hidden)\u001b[0m\n\u001b[0;32m     13\u001b[0m \u001b[38;5;28;01mdef\u001b[39;00m \u001b[38;5;21mglob\u001b[39m(pathname, \u001b[38;5;241m*\u001b[39m, root_dir\u001b[38;5;241m=\u001b[39m\u001b[38;5;28;01mNone\u001b[39;00m, dir_fd\u001b[38;5;241m=\u001b[39m\u001b[38;5;28;01mNone\u001b[39;00m, recursive\u001b[38;5;241m=\u001b[39m\u001b[38;5;28;01mFalse\u001b[39;00m,\n\u001b[0;32m     14\u001b[0m         include_hidden\u001b[38;5;241m=\u001b[39m\u001b[38;5;28;01mFalse\u001b[39;00m):\n\u001b[0;32m     15\u001b[0m \u001b[38;5;250m    \u001b[39m\u001b[38;5;124;03m\"\"\"Return a list of paths matching a pathname pattern.\u001b[39;00m\n\u001b[0;32m     16\u001b[0m \n\u001b[0;32m     17\u001b[0m \u001b[38;5;124;03m    The pattern may contain simple shell-style wildcards a la\u001b[39;00m\n\u001b[1;32m   (...)\u001b[0m\n\u001b[0;32m     26\u001b[0m \u001b[38;5;124;03m    zero or more directories and subdirectories.\u001b[39;00m\n\u001b[0;32m     27\u001b[0m \u001b[38;5;124;03m    \"\"\"\u001b[39;00m\n\u001b[1;32m---> 28\u001b[0m     \u001b[38;5;28;01mreturn\u001b[39;00m \u001b[38;5;28mlist\u001b[39m(iglob(pathname, root_dir\u001b[38;5;241m=\u001b[39mroot_dir, dir_fd\u001b[38;5;241m=\u001b[39mdir_fd, recursive\u001b[38;5;241m=\u001b[39mrecursive,\n\u001b[0;32m     29\u001b[0m                       include_hidden\u001b[38;5;241m=\u001b[39minclude_hidden))\n",
      "File \u001b[1;32mc:\\Users\\Emma Wadsworth\\anaconda3\\envs\\unet\\Lib\\glob.py:99\u001b[0m, in \u001b[0;36m_iglob\u001b[1;34m(pathname, root_dir, dir_fd, recursive, dironly, include_hidden)\u001b[0m\n\u001b[0;32m     96\u001b[0m \u001b[38;5;28;01mfor\u001b[39;00m dirname \u001b[38;5;129;01min\u001b[39;00m dirs:\n\u001b[0;32m     97\u001b[0m     \u001b[38;5;28;01mfor\u001b[39;00m name \u001b[38;5;129;01min\u001b[39;00m glob_in_dir(_join(root_dir, dirname), basename, dir_fd, dironly,\n\u001b[0;32m     98\u001b[0m                            include_hidden\u001b[38;5;241m=\u001b[39minclude_hidden):\n\u001b[1;32m---> 99\u001b[0m         \u001b[38;5;28;01myield\u001b[39;00m os\u001b[38;5;241m.\u001b[39mpath\u001b[38;5;241m.\u001b[39mjoin(dirname, name)\n",
      "\u001b[1;31mKeyboardInterrupt\u001b[0m: "
     ]
    }
   ],
   "source": [
    "# for each .csv in the folder unet_full_predict, extract the number and find the associated .png and .csv in the folder therm11\n",
    "folder = 'unet_full_predict'\n",
    "files = glob.glob(folder + '/*.csv')\n",
    "save_folder = 'comparison_images'\n",
    "if not os.path.exists(save_folder):\n",
    "    os.makedirs(save_folder)\n",
    "\n",
    "\n",
    "for file in files:\n",
    "    #extract the number\n",
    "    number = file.split('\\\\')[-1].split('.')[0].split('_')[0]\n",
    "    \n",
    "    if int(number) < 14871:\n",
    "        continue\n",
    "\n",
    "\n",
    "    # find the associated .png in the folder therm11\n",
    "    files_therm11 = glob.glob('therm11/*.png')\n",
    "\n",
    "    # find the associated .png\n",
    "    for file_therm11 in files_therm11:\n",
    "        if number in file_therm11:\n",
    "            input_png = file_therm11\n",
    "            break\n",
    "\n",
    "    # find the associated .csv\n",
    "    files_therm11 = glob.glob('therm11/*.csv')\n",
    "\n",
    "    for file_therm11 in files_therm11:\n",
    "        if number in file_therm11:\n",
    "            ground_truth = file_therm11\n",
    "            break\n",
    "\n",
    "    # create an image that goes from the input to the ground truth to the prediction\n",
    "    in_img = plt.imread(input_png)\n",
    "    gt_img = pd.read_csv(ground_truth,delimiter=' ').iloc[1:, 20:260].values.astype('float32')\n",
    "    pred_img = pd.read_csv(file,delimiter=',').to_numpy().astype(float)\n",
    "\n",
    "    fig, ax = plt.subplots(1, 3, figsize=(15, 5))\n",
    "    ax[0].imshow(in_img)\n",
    "    ax[0].set_title('Input')\n",
    "    ax[1].imshow(gt_img)\n",
    "    ax[1].set_title('Ground Truth')\n",
    "    ax[2].imshow(pred_img)\n",
    "    ax[2].set_title('Prediction')\n",
    "    ax[0].axis('off')\n",
    "    ax[1].axis('off')\n",
    "    ax[2].axis('off')\n",
    "    fig.suptitle('Image ' + number)\n",
    "    #plt.show()\n",
    "\n",
    "    # save the image\n",
    "    fig.savefig(save_folder + '/result_' + number + '.png')\n",
    "    plt.close(fig)\n",
    "\n",
    "    \n"
   ]
  }
 ],
 "metadata": {
  "kernelspec": {
   "display_name": "unet",
   "language": "python",
   "name": "python3"
  },
  "language_info": {
   "codemirror_mode": {
    "name": "ipython",
    "version": 3
   },
   "file_extension": ".py",
   "mimetype": "text/x-python",
   "name": "python",
   "nbconvert_exporter": "python",
   "pygments_lexer": "ipython3",
   "version": "3.11.9"
  }
 },
 "nbformat": 4,
 "nbformat_minor": 2
}
